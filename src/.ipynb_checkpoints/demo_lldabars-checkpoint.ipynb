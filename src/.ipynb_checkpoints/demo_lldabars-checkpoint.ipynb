{
 "cells": [
  {
   "cell_type": "code",
   "execution_count": 1,
   "metadata": {},
   "outputs": [],
   "source": [
    "import pickle\n",
    "import filtering, utils\n",
    "from llda_model import *\n",
    "import archived_dataset\n",
    "\n",
    "# unpack options\n",
    "datadir = '../data/'\n",
    "corpus = 'BARS'\n",
    "batchsize = 1024\n",
    "numthreads = 1\n",
    "algorithmname = 'llda_filtering_ep'\n"
   ]
  },
  {
   "cell_type": "code",
   "execution_count": 2,
   "metadata": {},
   "outputs": [
    {
     "name": "stdout",
     "output_type": "stream",
     "text": [
      "Loading ../data/BARS_train.dat\n",
      "100 docs to load.\n",
      "done.\n",
      "cache contains 100 docs.\n",
      "Loading ../data/BARS_test.dat\n",
      "10 docs to load.\n",
      "done.\n",
      "Loading ../data/BARS_labels.dat\n",
      "100 docs to load.\n",
      "done.\n"
     ]
    },
    {
     "ename": "NameError",
     "evalue": "name 'utils' is not defined",
     "output_type": "error",
     "traceback": [
      "\u001b[0;31m-------------------------------------------------------------------\u001b[0m",
      "\u001b[0;31mNameError\u001b[0m                         Traceback (most recent call last)",
      "\u001b[0;32m<ipython-input-2-b048c0ecd592>\u001b[0m in \u001b[0;36m<module>\u001b[0;34m()\u001b[0m\n\u001b[1;32m     16\u001b[0m  \u001b[0;31m# load all labels\u001b[0m\u001b[0;34m\u001b[0m\u001b[0;34m\u001b[0m\u001b[0m\n\u001b[1;32m     17\u001b[0m \u001b[0mlabels_all\u001b[0m \u001b[0;34m=\u001b[0m \u001b[0marchived_dataset\u001b[0m\u001b[0;34m.\u001b[0m\u001b[0mloadLabels\u001b[0m\u001b[0;34m(\u001b[0m                \u001b[0mdatadir\u001b[0m \u001b[0;34m+\u001b[0m \u001b[0mcorpus\u001b[0m \u001b[0;34m+\u001b[0m \u001b[0;34m\"_labels.dat\"\u001b[0m\u001b[0;34m)\u001b[0m\u001b[0;34m\u001b[0m\u001b[0m\n\u001b[0;32m---> 18\u001b[0;31m \u001b[0mlabels\u001b[0m \u001b[0;34m=\u001b[0m \u001b[0mutils\u001b[0m\u001b[0;34m.\u001b[0m\u001b[0msample_labels\u001b[0m\u001b[0;34m(\u001b[0m\u001b[0mlabels_all\u001b[0m\u001b[0;34m,\u001b[0m \u001b[0moptions\u001b[0m\u001b[0;34m.\u001b[0m\u001b[0mnuminit\u001b[0m\u001b[0;34m,\u001b[0m \u001b[0mmodel\u001b[0m\u001b[0;34m.\u001b[0m\u001b[0mNl\u001b[0m\u001b[0;34m)\u001b[0m\u001b[0;34m\u001b[0m\u001b[0m\n\u001b[0m",
      "\u001b[0;31mNameError\u001b[0m: name 'utils' is not defined"
     ]
    }
   ],
   "source": [
    "# load vocab / training / test files\n",
    "W = len(open(datadir + corpus + \"_vocab.dat\", 'r').readlines())\n",
    "wikirandom = archived_dataset.Corpus(datadir + corpus + \"_train.dat\") # \n",
    "validation_docs = archived_dataset.loadDocs(datadir + corpus + \"_test.dat\")\n",
    "\n",
    "# load model\n",
    "f = open(datadir + corpus + '_model.dat', 'rb')\n",
    "model = pickle.load(f)\n",
    "f.close()\n",
    "eta = model.beta     # prior for topics\n",
    "K = model.K          # number of topics\n",
    "alpha = model.alpha  # topic proportions prior\n",
    "ppi = model.ppi      # label conditional\n",
    "Nl = model.Nl        # number of labels\n",
    "\n",
    " # load all labels\n",
    "labels_all = archived_dataset.loadLabels(\\\n",
    "                datadir + corpus + \"_labels.dat\")\n",
    "labels = utils.sample_labels(labels_all, options.numinit, model.Nl)\n"
   ]
  },
  {
   "cell_type": "code",
   "execution_count": null,
   "metadata": {},
   "outputs": [],
   "source": []
  }
 ],
 "metadata": {
  "kernelspec": {
   "display_name": "Python 3",
   "language": "python",
   "name": "python3"
  },
  "language_info": {
   "codemirror_mode": {
    "name": "ipython",
    "version": 3
   },
   "file_extension": ".py",
   "mimetype": "text/x-python",
   "name": "python",
   "nbconvert_exporter": "python",
   "pygments_lexer": "ipython3",
   "version": "3.4.3"
  }
 },
 "nbformat": 4,
 "nbformat_minor": 2
}
